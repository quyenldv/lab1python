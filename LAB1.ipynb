{
 "cells": [
  {
   "cell_type": "markdown",
   "metadata": {},
   "source": [
    "# PROBLEM 1 : Write a program which will find all such numbers which are symetric (such as 11, 121, 1221,...) between 10 and 2000 (both include). The numbers obtained should be printed in a comma-separated on a single line."
   ]
  },
  {
   "cell_type": "code",
   "execution_count": 64,
   "metadata": {
    "scrolled": true
   },
   "outputs": [
    {
     "name": "stdout",
     "output_type": "stream",
     "text": [
      "[11, 22, 33, 44, 55, 66, 77, 88, 99, 101, 111, 121, 131, 141, 151, 161, 171, 181, 191, 202, 212, 222, 232, 242, 252, 262, 272, 282, 292, 303, 313, 323, 333, 343, 353, 363, 373, 383, 393, 404, 414, 424, 434, 444, 454, 464, 474, 484, 494, 505, 515, 525, 535, 545, 555, 565, 575, 585, 595, 606, 616, 626, 636, 646, 656, 666, 676, 686, 696, 707, 717, 727, 737, 747, 757, 767, 777, 787, 797, 808, 818, 828, 838, 848, 858, 868, 878, 888, 898, 909, 919, 929, 939, 949, 959, 969, 979, 989, 999, 1001, 1111, 1221, 1331, 1441, 1551, 1661, 1771, 1881, 1991]\n"
     ]
    }
   ],
   "source": [
    "symmetric = [] #list blank \n",
    "for i in range(10,2001):\n",
    "    if i == int(str(i)[::-1]):\n",
    "        symmetric.append(i)\n",
    "print(symmetric)"
   ]
  },
  {
   "cell_type": "markdown",
   "metadata": {},
   "source": [
    "# PROBLEM 2 : Write a program which will find all such numbers which include at least 3 duplicated digits (such as 111, 1222,...) between 100 and 2000 (both include). The numbers obtained should be printed in a comma-separated on a single line. "
   ]
  },
  {
   "cell_type": "code",
   "execution_count": 3,
   "metadata": {
    "scrolled": true
   },
   "outputs": [
    {
     "name": "stdout",
     "output_type": "stream",
     "text": [
      "[111, 222, 333, 444, 555, 666, 777, 888, 999, 1000, 1011, 1101, 1110, 1112, 1113, 1114, 1115, 1116, 1117, 1118, 1119, 1121, 1131, 1141, 1151, 1161, 1171, 1181, 1191, 1211, 1222, 1311, 1333, 1411, 1444, 1511, 1555, 1611, 1666, 1711, 1777, 1811, 1888, 1911, 1999, 2000]\n"
     ]
    }
   ],
   "source": [
    "import collections\n",
    "duplicate = []\n",
    "for i in range(99,2001):\n",
    "    a = str(i)\n",
    "    for j,count in collections.Counter(a).items():\n",
    "        if count==3:\n",
    "            duplicate.append(i)\n",
    "print(duplicate)"
   ]
  },
  {
   "cell_type": "markdown",
   "metadata": {},
   "source": [
    "# PROBLEM 3 : Write a program will receive an integer larger than 0 and respond number of digits of that integer."
   ]
  },
  {
   "cell_type": "code",
   "execution_count": 4,
   "metadata": {},
   "outputs": [
    {
     "name": "stdout",
     "output_type": "stream",
     "text": [
      "Enter a number larger than 0 : 12\n",
      "2\n"
     ]
    }
   ],
   "source": [
    "number = int(input(\"Enter a number larger than 0 : \"))\n",
    "print(len(str(number)))"
   ]
  },
  {
   "cell_type": "code",
   "execution_count": 5,
   "metadata": {},
   "outputs": [
    {
     "name": "stdout",
     "output_type": "stream",
     "text": [
      "Enter a number larger than 0 : 021000\n",
      "5\n"
     ]
    }
   ],
   "source": [
    "number = int(input(\"Enter a number larger than 0 : \"))\n",
    "print(len(str(number)))"
   ]
  },
  {
   "cell_type": "markdown",
   "metadata": {},
   "source": [
    "# PROBLEM 4 : Write a program which will receive an integer larger than 0 and present that integer in binary format."
   ]
  },
  {
   "cell_type": "code",
   "execution_count": 65,
   "metadata": {},
   "outputs": [
    {
     "name": "stdout",
     "output_type": "stream",
     "text": [
      "please enter number : 1456\n",
      "The binary for 1456 is 010110110000\n"
     ]
    }
   ],
   "source": [
    "n=int(input('please enter number : '))\n",
    "x=n\n",
    "k=[]\n",
    "while (n>0):\n",
    "    a=int(float(n%2))\n",
    "    k.append(a)\n",
    "    n=(n-a)/2\n",
    "k.append(0)\n",
    "string=\"\"\n",
    "for j in k[::-1]:\n",
    "    string=string+str(j)\n",
    "print('The binary for %d is %s'%(x, string))"
   ]
  },
  {
   "cell_type": "code",
   "execution_count": 66,
   "metadata": {},
   "outputs": [
    {
     "name": "stdout",
     "output_type": "stream",
     "text": [
      "please enter number: 135\n",
      "The binary for 135 is 010000111\n"
     ]
    }
   ],
   "source": [
    "n=int(input('please enter number: '))\n",
    "x=n\n",
    "k=[]\n",
    "while (n>0):\n",
    "    a=int(float(n%2))\n",
    "    k.append(a)\n",
    "    n=(n-a)/2\n",
    "k.append(0)\n",
    "string=\"\"\n",
    "for j in k[::-1]:\n",
    "    string=string+str(j)\n",
    "print('The binary for %d is %s'%(x, string))"
   ]
  },
  {
   "cell_type": "markdown",
   "metadata": {},
   "source": [
    "# PROBLEM 5 : Write a program which will receive an integer larger than 100 and find all divisors of that integer. The numbers obtained should be printed in a comma-separated on a single line. "
   ]
  },
  {
   "cell_type": "code",
   "execution_count": 68,
   "metadata": {},
   "outputs": [
    {
     "name": "stdout",
     "output_type": "stream",
     "text": [
      "Enter a number larger than 100: 269\n",
      "[1, 269]\n"
     ]
    }
   ],
   "source": [
    "number = int(input(\"Enter a number larger than 100: \"))\n",
    "a = [] \n",
    "for i in range(1,number+1):\n",
    "    if number % i == 0:\n",
    "        a.append(i)    #append: add phần tử vào list\n",
    "print(a)"
   ]
  },
  {
   "cell_type": "code",
   "execution_count": 4,
   "metadata": {},
   "outputs": [
    {
     "name": "stdout",
     "output_type": "stream",
     "text": [
      "Enter a number larger than 100: 2012\n",
      "[1, 2, 4, 503, 1006, 2012]\n"
     ]
    }
   ],
   "source": [
    "number = int(input(\"Enter a number larger than 100: \"))\n",
    "a = [] \n",
    "for i in range(1,number+1):\n",
    "    if number % i == 0:\n",
    "        a.append(i)    #append: add phần tử vào list\n",
    "print(a)"
   ]
  },
  {
   "cell_type": "markdown",
   "metadata": {},
   "source": [
    "# PROBLEM 6 : Write a program which will find all primes between 1000 and 3000 (both included). The numbers obtained should be printed in a comma-separated on a single line. "
   ]
  },
  {
   "cell_type": "code",
   "execution_count": 5,
   "metadata": {},
   "outputs": [
    {
     "name": "stdout",
     "output_type": "stream",
     "text": [
      "[1009, 1013, 1019, 1021, 1031, 1033, 1039, 1049, 1051, 1061, 1063, 1069, 1087, 1091, 1093, 1097, 1103, 1109, 1117, 1123, 1129, 1151, 1153, 1163, 1171, 1181, 1187, 1193, 1201, 1213, 1217, 1223, 1229, 1231, 1237, 1249, 1259, 1277, 1279, 1283, 1289, 1291, 1297, 1301, 1303, 1307, 1319, 1321, 1327, 1361, 1367, 1373, 1381, 1399, 1409, 1423, 1427, 1429, 1433, 1439, 1447, 1451, 1453, 1459, 1471, 1481, 1483, 1487, 1489, 1493, 1499, 1511, 1523, 1531, 1543, 1549, 1553, 1559, 1567, 1571, 1579, 1583, 1597, 1601, 1607, 1609, 1613, 1619, 1621, 1627, 1637, 1657, 1663, 1667, 1669, 1693, 1697, 1699, 1709, 1721, 1723, 1733, 1741, 1747, 1753, 1759, 1777, 1783, 1787, 1789, 1801, 1811, 1823, 1831, 1847, 1861, 1867, 1871, 1873, 1877, 1879, 1889, 1901, 1907, 1913, 1931, 1933, 1949, 1951, 1973, 1979, 1987, 1993, 1997, 1999, 2003, 2011, 2017, 2027, 2029, 2039, 2053, 2063, 2069, 2081, 2083, 2087, 2089, 2099, 2111, 2113, 2129, 2131, 2137, 2141, 2143, 2153, 2161, 2179, 2203, 2207, 2213, 2221, 2237, 2239, 2243, 2251, 2267, 2269, 2273, 2281, 2287, 2293, 2297, 2309, 2311, 2333, 2339, 2341, 2347, 2351, 2357, 2371, 2377, 2381, 2383, 2389, 2393, 2399, 2411, 2417, 2423, 2437, 2441, 2447, 2459, 2467, 2473, 2477, 2503, 2521, 2531, 2539, 2543, 2549, 2551, 2557, 2579, 2591, 2593, 2609, 2617, 2621, 2633, 2647, 2657, 2659, 2663, 2671, 2677, 2683, 2687, 2689, 2693, 2699, 2707, 2711, 2713, 2719, 2729, 2731, 2741, 2749, 2753, 2767, 2777, 2789, 2791, 2797, 2801, 2803, 2819, 2833, 2837, 2843, 2851, 2857, 2861, 2879, 2887, 2897, 2903, 2909, 2917, 2927, 2939, 2953, 2957, 2963, 2969, 2971, 2999]\n"
     ]
    }
   ],
   "source": [
    "prime = []\n",
    "for i in range(999,3001):\n",
    "    count=0\n",
    "    for j in range(1,i+1):\n",
    "        if(i%j==0):\n",
    "            count=count+1\n",
    "    if(count==2):\n",
    "        prime.append(i)\n",
    "print(prime)"
   ]
  },
  {
   "cell_type": "markdown",
   "metadata": {},
   "source": [
    "# PROBLEM 7 : Write a program which will receive an integer larger than 0 and respond all perfect numbers smaller than that integer. A perfect number is sum of its divisors except itself, such as 6 = 1+2+3. The numbers obtained should be printed in a comma-separated sequence on a single line."
   ]
  },
  {
   "cell_type": "code",
   "execution_count": 40,
   "metadata": {},
   "outputs": [
    {
     "name": "stdout",
     "output_type": "stream",
     "text": [
      "Enter value: 1000\n",
      "Perfect numbers smaller than 1000 are:\n",
      "[6, 28, 496] "
     ]
    }
   ],
   "source": [
    "d=[]\n",
    "def perfect(n):\n",
    "    \n",
    "    if n<1:\n",
    "        return False\n",
    "\n",
    "    perfect_sum = 0\n",
    "    \n",
    "    for i in range(1,n):\n",
    "        if n%i==0:\n",
    "            perfect_sum += i\n",
    "            \n",
    "    return perfect_sum == n\n",
    "\n",
    "# Reading interval from user\n",
    "value = int(input('Enter value: '))\n",
    "\n",
    "# Looping & displaying if it is Perfect\n",
    "print('Perfect numbers smaller than %d are:' %(value) )\n",
    "for i in range(0,value+1):\n",
    "    if perfect(i):\n",
    "        d.append(i)\n",
    "print(d, end=' ')"
   ]
  },
  {
   "cell_type": "code",
   "execution_count": 38,
   "metadata": {},
   "outputs": [
    {
     "name": "stdout",
     "output_type": "stream",
     "text": [
      "Enter value: 100\n",
      "Perfect numbers smaller than 100 are:\n",
      "[6, 28] "
     ]
    }
   ],
   "source": [
    "d=[]\n",
    "def perfect(n):\n",
    "    \n",
    "    if n<1:\n",
    "        return False\n",
    "\n",
    "    perfect_sum = 0\n",
    "    \n",
    "    for i in range(1,n):\n",
    "        if n%i==0:\n",
    "            perfect_sum += i\n",
    "            \n",
    "    return perfect_sum == n\n",
    "\n",
    "# Reading interval from user\n",
    "value = int(input('Enter value: '))\n",
    "\n",
    "# Looping & displaying if it is Perfect\n",
    "print('Perfect numbers smaller than %d are:' %(value) )\n",
    "for i in range(0,value+1):\n",
    "    if perfect(i):\n",
    "        d.append(i)\n",
    "print(d, end=' ')"
   ]
  },
  {
   "cell_type": "markdown",
   "metadata": {},
   "source": [
    "# PROBLEM 8 : With a given integral number n, write a program to generate a dictionary that contains (i, iii) such that is an integral number between 1 and n (both included). and then the program should print the dictionary. Suppose the following input is supplied to the program: 6 Then, the output should be: {1: 1, 2: 8, 3: 27, 4: 64, 5: 125, 6: 216}"
   ]
  },
  {
   "cell_type": "code",
   "execution_count": 47,
   "metadata": {},
   "outputs": [
    {
     "name": "stdout",
     "output_type": "stream",
     "text": [
      "Enter a number: 7\n",
      "{1: 1, 2: 8, 3: 27, 4: 64, 5: 125, 6: 216, 7: 343}\n"
     ]
    }
   ],
   "source": [
    "    dict={}\n",
    "    n = int(input(\"Enter a number: \"))\n",
    "    for i in range(1,n+1):\n",
    "        dict[i]=i*i*i\n",
    "print (dict)"
   ]
  },
  {
   "cell_type": "markdown",
   "metadata": {},
   "source": [
    "# PROBLEM 9 : Write a program which accepts a sequence of comma separated 4 digit binary numbers as its input and then check whether they are divisible by 3 or not. The numbers that are divisible by 3 are to be printed in a comma separated sequence. Example: 0100,0011,1010,1101 Then the output should be: 1101"
   ]
  },
  {
   "cell_type": "code",
   "execution_count": 33,
   "metadata": {},
   "outputs": [
    {
     "name": "stdout",
     "output_type": "stream",
     "text": [
      "0100,0011,1010,1101\n",
      "1101\n"
     ]
    }
   ],
   "source": [
    "a = []\n",
    "num = [x for x in input().split(',')]\n",
    "for p in num:\n",
    "    x = int(p)\n",
    "    if not x%3:\n",
    "        a.append(p)\n",
    "print(','.join(a))"
   ]
  },
  {
   "cell_type": "markdown",
   "metadata": {},
   "source": [
    "# PROBLEM 10 :Write a program which will receive an integer larger than 0 and respond if that integer is sum of three distinct squared numbers, such as 38 = 2^2 + 3^2 + 5^2"
   ]
  },
  {
   "cell_type": "code",
   "execution_count": 1,
   "metadata": {},
   "outputs": [
    {
     "name": "stdout",
     "output_type": "stream",
     "text": [
      "number 38\n",
      "38 = 5 ^2 +  3 ^2+  2 ^2\n",
      "Yes\n"
     ]
    }
   ],
   "source": [
    "def sumSquare( n) : \n",
    "    i = 1 \n",
    "    while i * i <= n : \n",
    "        j = 1\n",
    "        while ((j * j <= n) and (j != i)): \n",
    "            k = 1\n",
    "            while((k * k <= n) and (k != i)and(j != k) ) :\n",
    "                if (i * i + j * j + k * k == n) : \n",
    "                    print(n,\"=\",i, \"^2 + \", j , \"^2+ \", k , \"^2\" ) \n",
    "                    return True\n",
    "                k = k + 1\n",
    "            j = j + 1\n",
    "        i = i + 1\n",
    "          \n",
    "    return False\n",
    "   \n",
    "# driver Program \n",
    "n = int(input(\"number \"))\n",
    "if (sumSquare(n)) : \n",
    "    print(\"Yes\") \n",
    "else : \n",
    "    print( \"No\")"
   ]
  },
  {
   "cell_type": "code",
   "execution_count": 2,
   "metadata": {},
   "outputs": [
    {
     "name": "stdout",
     "output_type": "stream",
     "text": [
      "number 10\n",
      "No\n"
     ]
    }
   ],
   "source": [
    "def sumSquare( n) : \n",
    "    i = 1 \n",
    "    while i * i <= n : \n",
    "        j = 1\n",
    "        while ((j * j <= n) and (j != i)): \n",
    "            k = 1\n",
    "            while((k * k <= n) and (k != i)and(j != k) ) :\n",
    "                if (i * i + j * j + k * k == n) : \n",
    "                    print(n,\"=\",i, \"^2 + \", j , \"^2+ \", k , \"^2\" ) \n",
    "                    return True\n",
    "                k = k + 1\n",
    "            j = j + 1\n",
    "        i = i + 1\n",
    "          \n",
    "    return False\n",
    "   \n",
    "# driver Program \n",
    "n = int(input(\"number \"))\n",
    "if (sumSquare(n)) : \n",
    "    print(\"Yes\") \n",
    "else : \n",
    "    print( \"No\")\n"
   ]
  },
  {
   "cell_type": "code",
   "execution_count": 3,
   "metadata": {},
   "outputs": [
    {
     "name": "stdout",
     "output_type": "stream",
     "text": [
      "number 121\n",
      "121 = 9 ^2 +  6 ^2+  2 ^2\n",
      "Yes\n"
     ]
    }
   ],
   "source": [
    "def sumSquare( n) : \n",
    "    i = 1 \n",
    "    while i * i <= n : \n",
    "        j = 1\n",
    "        while ((j * j <= n) and (j != i)): \n",
    "            k = 1\n",
    "            while((k * k <= n) and (k != i)and(j != k) ) :\n",
    "                if (i * i + j * j + k * k == n) : \n",
    "                    print(n,\"=\",i, \"^2 + \", j , \"^2+ \", k , \"^2\" ) \n",
    "                    return True\n",
    "                k = k + 1\n",
    "            j = j + 1\n",
    "        i = i + 1\n",
    "          \n",
    "    return False\n",
    "   \n",
    "# driver Program \n",
    "n = int(input(\"number \"))\n",
    "if (sumSquare(n)) : \n",
    "    print(\"Yes\") \n",
    "else : \n",
    "    print( \"No\")\n"
   ]
  },
  {
   "cell_type": "code",
   "execution_count": null,
   "metadata": {},
   "outputs": [],
   "source": []
  }
 ],
 "metadata": {
  "kernelspec": {
   "display_name": "Python 3",
   "language": "python",
   "name": "python3"
  },
  "language_info": {
   "codemirror_mode": {
    "name": "ipython",
    "version": 3
   },
   "file_extension": ".py",
   "mimetype": "text/x-python",
   "name": "python",
   "nbconvert_exporter": "python",
   "pygments_lexer": "ipython3",
   "version": "3.8.5"
  }
 },
 "nbformat": 4,
 "nbformat_minor": 4
}
